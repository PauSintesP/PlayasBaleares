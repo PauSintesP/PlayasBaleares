{
  "nbformat": 4,
  "nbformat_minor": 0,
  "metadata": {
    "colab": {
      "provenance": []
    },
    "kernelspec": {
      "name": "python3",
      "display_name": "Python 3"
    },
    "language_info": {
      "name": "python"
    }
  },
  "cells": [
    {
      "cell_type": "markdown",
      "source": [
        "#**Definicions**\n",
        "\n",
        "Una definició (funció, mètode, procediment,...) és simplement un \"tros\" de codi que podeu utilitzar una vegada i una altra, en lloc d'escriure'l diverses vegades. Les definicicions permeten als programadors descompondre un problema en trossos més petits, cadascun dels quals du a terme una tasca determinada. Un cop creada una definició, gairebé ens poden oblidar dels detalls de com funciona, és el que es coneix com a abstracció.\n",
        "\n",
        "Una vegada definida una definició, pots cridar-la sempre que la necessiti, simplement fent servir el seu nom. A més, per funcionar, la definicició probablement requerirà algunes entrades o paràmetres, que es donen a la definició cada vegada que es crida.\n",
        "\n",
        "Crear una definició nova és bastant senzill i sempre hauríem de considerar aquesta opció per a qualsevol tasca que vulguem que el nostre programa faci amb regularitat.\n",
        "\n",
        "La definició s'estructura de la següent manera:\n",
        "*   La paraula clau def diu a Python que s'espera una definició.\n",
        "*   Un nom senzill però descriptiu per a la funció.\n",
        "*   Una llista de paràmetres separats per comes, envoltats de parèntesis.\n",
        "*   A continuació, hi ha dos punts : per indicar un bloc de codi sagnat.\n",
        "*   Un bloc de codi sagnat, que conté el cos de la funció."
      ],
      "metadata": {
        "id": "1UckhgTHlrHn"
      }
    },
    {
      "cell_type": "code",
      "execution_count": 10,
      "metadata": {
        "id": "ldrJbKFUlqEc",
        "colab": {
          "base_uri": "https://localhost:8080/"
        },
        "outputId": "f1433130-43fc-4f45-f110-48a13bf1ae00"
      },
      "outputs": [
        {
          "output_type": "stream",
          "name": "stdout",
          "text": [
            "camisa\n",
            "pantalons\n",
            "blusa\n",
            "vestit\n"
          ]
        }
      ],
      "source": [
        "#Crea un llista de roba\n",
        "llista_roba = [\"camisa\", \"pantalons\", \"blusa\", \"vestit\"]\n",
        "#Mostrar la llista per pantalla\n",
        "for element in llista_roba:\n",
        "  print(element)"
      ]
    },
    {
      "cell_type": "markdown",
      "source": [
        "Això són només tres línies de codi, però si necessiteu imprimir llistes amb regularitat, és molt més pràctic crear una definició. Per crear una definició nova, cal definir-la abans de fer-la servir per primera vegada, normalment a l'inici del programa."
      ],
      "metadata": {
        "id": "ZaFVvDKSoT0j"
      }
    },
    {
      "cell_type": "code",
      "source": [
        "#Definició per mostrar llistes per consola\n",
        "def mostrar_llista():\n",
        "  for producte in llista_roba:\n",
        "    print(producte)\n",
        "mostrar_llista()\n",
        "llista_roba.append(\"mitjons\")\n",
        "mostrar_llista()"
      ],
      "metadata": {
        "collapsed": true,
        "id": "KIhRwI-0ofso",
        "colab": {
          "base_uri": "https://localhost:8080/"
        },
        "outputId": "cbcc619e-d69b-4e8c-b90a-e4a1ebdad9c0"
      },
      "execution_count": 11,
      "outputs": [
        {
          "output_type": "stream",
          "name": "stdout",
          "text": [
            "camisa\n",
            "pantalons\n",
            "blusa\n",
            "vestit\n",
            "camisa\n",
            "pantalons\n",
            "blusa\n",
            "vestit\n",
            "mitjons\n"
          ]
        }
      ]
    },
    {
      "cell_type": "markdown",
      "source": [
        "# **Exercici 1**\n",
        "Crea una definició que simuli un llançament de moneda. Cada vegada que es crida la funció, hauria de seleccionar aleatòriament \"cara\" o \"creu\" i imprimir-ho. (Per fer-ho necessitareu la definició choice de la biblioteca random. choice seleccionarà aleatòriament un element d'una llista determinada."
      ],
      "metadata": {
        "id": "QZn_YMP3pnhr"
      }
    },
    {
      "cell_type": "code",
      "source": [
        "import random\n",
        "def llancar_moneda():\n",
        "  resultat = random.choice([\"cara\", \"creu\"])\n",
        "  print(resultat)\n",
        "\n",
        "#Main\n",
        "llancar_moneda()\n",
        "llancar_moneda()\n",
        "llancar_moneda()"
      ],
      "metadata": {
        "id": "yZ354pIkp1bF",
        "colab": {
          "base_uri": "https://localhost:8080/"
        },
        "outputId": "bcb42c19-c3e0-4e06-e0c2-e25d9323b6cc"
      },
      "execution_count": 3,
      "outputs": [
        {
          "output_type": "stream",
          "name": "stdout",
          "text": [
            "creu\n",
            "cara\n",
            "cara\n"
          ]
        }
      ]
    },
    {
      "cell_type": "markdown",
      "source": [
        "# **PARÀMETRES = ENTRADES**\n",
        "La majoria de les màquines quotidianes ens permeten un cert control sobre què fan: la temperatura d'un forn, la velocitat d'un ventilador o la quantitat d'aigua que hauria d'utilitzar una rentadora. Sense aquests elements controlables, necessitaríem una màquina diferent amb una configuració diferent per a cada treball, per exemple, un forn diferent per a cada temperatura a la qual volem cuinar.\n",
        "\n",
        "Amb la programació passa una cosa semblant. Tot i que les definicions senzilles permeten a un programador empaquetar codi i reutilitzar-lo, sense elements controlables necessitaríem una definició diferent per a cada escenari, encara que siguin molt similars.\n",
        "\n",
        "En lloc de reinventar la roda cada vegada, un programador crearà una definició que es pot aplicar a múltiples situacions i adaptar-se a cadascuna, fent servir entrades o paràmetres.\n",
        "\n",
        "Per exemple, aquí hi ha un parell de funcions molt semblants, ambdues calculen la mitjana de tres nombres:"
      ],
      "metadata": {
        "id": "mKvObAYYp2I9"
      }
    },
    {
      "cell_type": "code",
      "source": [
        "def mitjana_1():\n",
        "  print(1+1+1/3)\n",
        "def mitjana_2():\n",
        "  print(3+3+3/3)\n",
        "mitjana_1()\n",
        "mitjana_2()"
      ],
      "metadata": {
        "id": "-Z-w0nzBqnNk",
        "colab": {
          "base_uri": "https://localhost:8080/"
        },
        "outputId": "f66d1adf-1ef8-4308-db48-2176598780b5"
      },
      "execution_count": 9,
      "outputs": [
        {
          "output_type": "stream",
          "name": "stdout",
          "text": [
            "2.3333333333333335\n",
            "7.0\n"
          ]
        }
      ]
    },
    {
      "cell_type": "markdown",
      "source": [
        "Aquesta duplicació en programes es pot evitar escrivint una única definició amb paràmetres, que després es poden utilitzar per carregar qualsevol número. Podeu posar els noms que vulgueu als paràmetres, no necessiten relacionar-se amb la resta del programa: només existeixen dins l'abast d'aquesta definició."
      ],
      "metadata": {
        "id": "m7G0u-HMq975"
      }
    },
    {
      "cell_type": "code",
      "source": [
        "def mitjana(p1, p2, p3):\n",
        "  print(p1+p2+p3/3)\n",
        "mitjana(1,1,1)\n",
        "mitjana(3,3,3)"
      ],
      "metadata": {
        "id": "a6U6QWuIrEdA",
        "colab": {
          "base_uri": "https://localhost:8080/"
        },
        "outputId": "407f048d-4eb4-43a7-dd39-e92f4b171cd1"
      },
      "execution_count": 8,
      "outputs": [
        {
          "output_type": "stream",
          "name": "stdout",
          "text": [
            "2.3333333333333335\n",
            "7.0\n"
          ]
        }
      ]
    },
    {
      "cell_type": "markdown",
      "source": [
        "# **Exercici 2**\n",
        "Escriu una definició que tingui dos arguments, un text i un nombre enter, i imprimeix el text diverses vegades. L'enter especifica quantes vegades s'imprimeix el text.\n",
        "\n",
        "A la part principal del vostre programa (la part que no està dins d'una definició), crideu-la per provar-la."
      ],
      "metadata": {
        "id": "GeW4KFX3riSx"
      }
    },
    {
      "cell_type": "code",
      "source": [
        "def textNvegades(text,vegades):\n",
        "  for i in range(0, vegades):\n",
        "    print(text)\n",
        "\n",
        "#Main\n",
        "textNvegades(\"Hola com estasts\",4)\n",
        "textNvegades(\"Visca Menorca!\",2)\n",
        "textNvegades(\"Santiago ets molt gran\",3)"
      ],
      "metadata": {
        "id": "7nV0WWtUr7R3",
        "colab": {
          "base_uri": "https://localhost:8080/"
        },
        "outputId": "9fb0beeb-b5f4-4f36-8ff3-41228f6c56ad"
      },
      "execution_count": 4,
      "outputs": [
        {
          "output_type": "stream",
          "name": "stdout",
          "text": [
            "Hola com estasts\n",
            "Hola com estasts\n",
            "Hola com estasts\n",
            "Hola com estasts\n",
            "Visca Menorca!\n",
            "Visca Menorca!\n",
            "Santiago ets molt gran\n",
            "Santiago ets molt gran\n",
            "Santiago ets molt gran\n"
          ]
        }
      ]
    },
    {
      "cell_type": "markdown",
      "source": [
        "# **VALORS DE RETORN = SORTIDES**\n",
        "Quan programeu, sovint haureu de recuperar dades d'una definició, ja sigui simplement per confirmar que la definició ha fet la seva feina o per obtenir algunes dades que la definició ha calculat. Això es fa mitjançant l'ordre return, que \"retorna\" les dades al procés que ha cridat la definició.\n",
        "\n",
        "Per exemple, la definició següent demana a l'usuari que introdueixi alguns números i després retorna tots els números en una llista:"
      ],
      "metadata": {
        "id": "EolkA367r7jJ"
      }
    },
    {
      "cell_type": "code",
      "source": [
        "def recull_numeros(quantitat):\n",
        "  numeros = []\n",
        "  for index in range(quantitat):\n",
        "    numeros.append(int(input(\"Entra un numero:\")))\n",
        "  return numeros\n",
        "print(recull_numeros(4))"
      ],
      "metadata": {
        "id": "YBqqIrF-sJ3w"
      },
      "execution_count": null,
      "outputs": []
    },
    {
      "cell_type": "markdown",
      "source": [
        "També es poden retornar diversos valors d'una definició i emmagatzemar-los en variables separades:"
      ],
      "metadata": {
        "id": "ZrKpEWCptbZQ"
      }
    },
    {
      "cell_type": "code",
      "source": [
        "def perfil_usuari():\n",
        " nom = input(\"Nom:\")\n",
        " cognom = input(\"Cognom:\")\n",
        " edat = int(input(\"Edat:\"))\n",
        " return nom, cognom, edat\n",
        "\n",
        "nom_usuari, cognom_usuari, edat_usuari=perfil_usuari()\n",
        "print(nom_usuari, cognom_usuari, edat_usuari)\n",
        "\n"
      ],
      "metadata": {
        "id": "m6KMvy3rtewx"
      },
      "execution_count": null,
      "outputs": []
    },
    {
      "cell_type": "markdown",
      "source": [
        "Les variables definides dins d'una definició, com nom, existeixen aïllades d'altres variables i només mentre s'executa la funció. Aquest és el seu abast. Les variables definides al programa principal, més que dins de les funcions, existeixen durant la durada del programa i es diu que són d'abast global. Si voleu que una definició tingui accés a variables fora del seu propi àmbit, la millor pràctica seria afegir-les com a paràmetres a la definició:"
      ],
      "metadata": {
        "id": "NPHjImxNuXTG"
      }
    },
    {
      "cell_type": "code",
      "source": [
        "am = \"Bon dia\"\n",
        "pm = \"Bona tarda\"\n",
        "def perfil_usuari(salutacio):\n",
        "  print(salutacio)\n",
        "  nom = input(\"Nom:\")\n",
        "  cognom = input(\"Cognom:\")\n",
        "  edat = int(input(\"Edat:\"))\n",
        "  return nom, cognom, edat\n",
        "\n",
        "nom_usuari, cognom_usuari, edat_usuari=perfil_usuari(am)\n",
        "print(nom_usuari, cognom_usuari, edat_usuari)"
      ],
      "metadata": {
        "id": "we2npAp8ugpu"
      },
      "execution_count": null,
      "outputs": []
    },
    {
      "cell_type": "markdown",
      "source": [
        "# **Exercici 3**\n",
        "Conversor de temperatures\n",
        "Escriu una definició amb un paràmetre, un número decimal que representa una temperatura en Celsius, i que retorni un nombre decimal que representi aquesta temperatura en Fahrenheit.\n",
        "A continuació, escriviu una definició que faci la conversió oposada.\n",
        "Aquestes són les fórmules per convertir les temperatures:\n",
        "```\n",
        "ºF = (1.8 x ºC) + 32\n",
        "ºC = (ºF - 32) / 1.8\n",
        "```\n",
        "Finalment escriu un programa que demani a l'usuari quina conversió vol fer, el valor a convertir i mostri el resultat de la conversió."
      ],
      "metadata": {
        "id": "ngkQWFJZvXIg"
      }
    },
    {
      "cell_type": "code",
      "source": [
        "def celciusToFarenheit(nombre):\n",
        "  return  (1.8 * nombre) + 32\n",
        "def FarenheitToCelcius(nombre):\n",
        "  return (nombre-32)/1.8\n",
        "\n",
        "#Main\n",
        "print(celciusToFarenheit(3.4))\n",
        "print(FarenheitToCelcius(3.4))\n",
        "print(celciusToFarenheit(FarenheitToCelcius(6)))"
      ],
      "metadata": {
        "id": "kE-HEqk3v06X",
        "colab": {
          "base_uri": "https://localhost:8080/"
        },
        "outputId": "d05b9a67-f84b-47e9-d25b-5275ec187bb3"
      },
      "execution_count": 7,
      "outputs": [
        {
          "output_type": "stream",
          "name": "stdout",
          "text": [
            "38.12\n",
            "-15.88888888888889\n",
            "6.0\n"
          ]
        }
      ]
    }
  ]
}